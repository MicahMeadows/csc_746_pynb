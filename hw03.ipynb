{
 "cells": [
  {
   "cell_type": "markdown",
   "metadata": {},
   "source": [
    "# Setup\n",
    "\n",
    "First, let's import a few common modules, ensure MatplotLib plots figures inline and prepare a function to save the figures. We also check that Python 3.5 or later is installed, as well as Scikit-Learn ≥0.20. You don't need to change any code in the following cell, just run it."
   ]
  },
  {
   "cell_type": "code",
   "execution_count": 1,
   "metadata": {},
   "outputs": [],
   "source": [
    "# Python ≥3.5 is required\n",
    "import sys\n",
    "assert sys.version_info >= (3, 5)\n",
    "\n",
    "# Scikit-Learn ≥0.20 is required\n",
    "import sklearn\n",
    "assert sklearn.__version__ >= \"0.20\"\n",
    "\n",
    "# Common imports\n",
    "import numpy as np\n",
    "import os\n",
    "\n",
    "# to make this notebook's output stable across runs\n",
    "np.random.seed(42)\n",
    "\n",
    "# To plot pretty figures\n",
    "%matplotlib inline\n",
    "import matplotlib as mpl\n",
    "import matplotlib.pyplot as plt\n",
    "mpl.rc('axes', labelsize=14)\n",
    "mpl.rc('xtick', labelsize=12)\n",
    "mpl.rc('ytick', labelsize=12)\n",
    "\n",
    "# Where to save the figures\n",
    "PROJECT_ROOT_DIR = \".\"\n",
    "CHAPTER_ID = \"training_linear_models\"\n",
    "IMAGES_PATH = os.path.join(PROJECT_ROOT_DIR, \"images\", CHAPTER_ID)\n",
    "os.makedirs(IMAGES_PATH, exist_ok=True)\n",
    "\n",
    "def save_fig(fig_id, tight_layout=True, fig_extension=\"png\", resolution=300):\n",
    "    path = os.path.join(IMAGES_PATH, fig_id + \".\" + fig_extension)\n",
    "    print(\"Saving figure\", fig_id)\n",
    "    if tight_layout:\n",
    "        plt.tight_layout()\n",
    "    plt.savefig(path, format=fig_extension, dpi=resolution)"
   ]
  },
  {
   "cell_type": "markdown",
   "metadata": {},
   "source": [
    "# Read the dataset "
   ]
  },
  {
   "cell_type": "code",
   "execution_count": 44,
   "metadata": {},
   "outputs": [],
   "source": [
    "from sklearn.preprocessing import  StandardScaler\n",
    "\n",
    "# fields are separated by comma and skip the first row (titles) when reading\n",
    "data = np.loadtxt(\"hw03_data.txt\", skiprows=1, dtype = \"float\", delimiter=\",\")\n",
    "\n",
    "# Scale the data with sklearn StandardScaler\n",
    "# Write your code here\n",
    "X = data[:, [0]]\n",
    "y = data[:, [1]]\n",
    "\n",
    "X_scalar = StandardScaler()\n",
    "y_scalar = StandardScaler()\n",
    "\n",
    "X = X_scalar.fit_transform(X)\n",
    "y = y_scalar.fit_transform(y)"
   ]
  },
  {
   "cell_type": "markdown",
   "metadata": {},
   "source": [
    "# Visualize the dataset"
   ]
  },
  {
   "cell_type": "code",
   "execution_count": 45,
   "metadata": {
    "scrolled": true
   },
   "outputs": [
    {
     "data": {
      "image/png": "[encoded data removed]",
      "text/plain": [
       "<Figure size 640x480 with 1 Axes>"
      ]
     },
     "metadata": {},
     "output_type": "display_data"
    }
   ],
   "source": [
    "# Write your code here\n",
    "plt.scatter(X, y, color='blue', marker='o', label='Data Points')\n",
    "\n",
    "# Customize the plot\n",
    "plt.title(\"Investment Vs. Profit\")\n",
    "plt.xlabel(\"Investment\")\n",
    "plt.ylabel(\"Profit\")\n",
    "plt.legend(loc=\"upper left\")\n",
    "plt.grid(True)\n",
    "\n",
    "# Display the plot\n",
    "plt.show()"
   ]
  },
  {
   "cell_type": "markdown",
   "metadata": {},
   "source": [
    "# Training with scikit_learn Linear Regression \n",
    "\n"
   ]
  },
  {
   "cell_type": "code",
   "execution_count": 56,
   "metadata": {},
   "outputs": [
    {
     "name": "stdout",
     "output_type": "stream",
     "text": [
      "Int [0.00024768]\n",
      "Coefficient: [[0.94532591]]\n"
     ]
    }
   ],
   "source": [
    "# Write your code here\n",
    "from sklearn.model_selection import train_test_split\n",
    "from sklearn.linear_model import LinearRegression\n",
    "from sklearn.metrics import r2_score\n",
    "\n",
    "X_train, X_test, y_train, y_test = train_test_split(X, y, test_size=0.2, random_state=0)\n",
    "\n",
    "model = LinearRegression()\n",
    "model.fit(X_train, y_train)\n",
    "\n",
    "print(f\"Int {model.intercept_}\")\n",
    "print(f\"Coefficient: {model.coef_}\")"
   ]
  },
  {
   "cell_type": "markdown",
   "metadata": {},
   "source": [
    "# Prediction\n",
    "Now we can make predictions using the weights."
   ]
  },
  {
   "cell_type": "code",
   "execution_count": 57,
   "metadata": {
    "scrolled": true
   },
   "outputs": [
    {
     "name": "stdout",
     "output_type": "stream",
     "text": [
      "Prediction: [[-0.70844612]\n",
      " [-0.74073991]\n",
      " [-0.58756288]\n",
      " [ 1.34660963]\n",
      " [-0.84298664]\n",
      " [-0.19973253]\n",
      " [-0.19407045]\n",
      " [-0.66859204]\n",
      " [ 1.07978446]\n",
      " [-1.55365328]]\n"
     ]
    }
   ],
   "source": [
    "# Write your code here\n",
    "y_pred = model.predict(X_test)\n",
    "print(f\"Prediction: {y_pred}\")\n"
   ]
  },
  {
   "cell_type": "markdown",
   "metadata": {},
   "source": [
    "# Evaluation\n",
    "Best possible $R^{2}$ score  is 1.0. <br>"
   ]
  },
  {
   "cell_type": "code",
   "execution_count": 48,
   "metadata": {},
   "outputs": [
    {
     "name": "stdout",
     "output_type": "stream",
     "text": [
      "R score: 0.8058421104257829\n"
     ]
    }
   ],
   "source": [
    "# Calculating the R squared value\n",
    "# Write your code here\n",
    "\n",
    "r2 = r2_score(y_test, y_pred)\n",
    "print(\"R score:\", r2)"
   ]
  },
  {
   "cell_type": "markdown",
   "metadata": {},
   "source": [
    "# Linear regression using gradient descent\n",
    "Solve the same problem with gradient descent algorithm"
   ]
  },
  {
   "cell_type": "code",
   "execution_count": 58,
   "metadata": {},
   "outputs": [
    {
     "name": "stdout",
     "output_type": "stream",
     "text": [
      "Prediction: [[-0.70841449]\n",
      " [-0.7407069 ]\n",
      " [-0.58753641]\n",
      " [ 1.34655341]\n",
      " [-0.84294926]\n",
      " [-0.19972265]\n",
      " [-0.19406081]\n",
      " [-0.66856211]\n",
      " [ 1.07973965]\n",
      " [-1.55358552]]\n",
      "R score: 0.996340269172907\n"
     ]
    }
   ],
   "source": [
    "lr = 0.01 \n",
    "iterations = 1000  \n",
    "m = len(y_train) \n",
    "\n",
    "(intercept, coef) = (0,0)\n",
    "\n",
    "for iteration in range(iterations):\n",
    "    h = intercept + coef * X_train\n",
    "\n",
    "    d_intercept = (1/m) * sum(h - y_train)\n",
    "    d_coef = (1/m) * sum((h - y_train) * X_train)\n",
    "\n",
    "    intercept = intercept - lr * d_intercept\n",
    "    coef = coef - lr * d_coef\n",
    "\n",
    "\n",
    "y_pred = intercept + coef * X_test\n",
    "print(f\"Prediction: {y_pred}\")\n",
    "\n",
    "r2 = r2_score(y_test, y_pred)\n",
    "print(f\"R score: {r2}\")\n"
   ]
  },
  {
   "cell_type": "markdown",
   "metadata": {},
   "source": [
    "Print out the weight values"
   ]
  },
  {
   "cell_type": "code",
   "execution_count": 53,
   "metadata": {},
   "outputs": [
    {
     "name": "stdout",
     "output_type": "stream",
     "text": [
      "Intercept: [-0.0036791]\n",
      "Coefficient: [0.93685259]\n"
     ]
    }
   ],
   "source": [
    "# Write your code here\n",
    "print(f\"Intercept: {intercept}\")\n",
    "print(f\"Coefficient: {coef}\")"
   ]
  },
  {
   "cell_type": "markdown",
   "metadata": {},
   "source": [
    "#### 7.\n",
    "a. During my testing I was only able to get a .81 R score at the highest. I believe this may be due to my scaling being potentially incorrect. Since this data is scaled weirdly with some outliers we cannot get the most accurate without removing them.\n",
    "\n",
    "b. In order to increase the R score we can decrease the testing size. By setting the testing size to 1% instead of 20% im receiving an R value of over .996 which is almost perfect. However this is certainly overfitting."
   ]
  },
  {
   "cell_type": "code",
   "execution_count": 59,
   "metadata": {},
   "outputs": [
    {
     "name": "stdout",
     "output_type": "stream",
     "text": [
      "Int [0.00024768]\n",
      "Coefficient: [[0.94532591]]\n",
      "Prediction: [[-0.70844612]\n",
      " [-0.74073991]\n",
      " [-0.58756288]\n",
      " [ 1.34660963]\n",
      " [-0.84298664]\n",
      " [-0.19973253]\n",
      " [-0.19407045]\n",
      " [-0.66859204]\n",
      " [ 1.07978446]\n",
      " [-1.55365328]]\n",
      "R score: 0.9963394099567833\n"
     ]
    }
   ],
   "source": [
    "# Improved R value\n",
    "\n",
    "X_train, X_test, y_train, y_test = train_test_split(X, y, test_size=0.01, random_state=0)\n",
    "\n",
    "model = LinearRegression()\n",
    "model.fit(X_train, y_train)\n",
    "\n",
    "print(f\"Int {model.intercept_}\")\n",
    "print(f\"Coefficient: {model.coef_}\")\n",
    "\n",
    "y_pred = model.predict(X_test)\n",
    "print(f\"Prediction: {y_pred}\")\n",
    "\n",
    "r2 = r2_score(y_test, y_pred)\n",
    "print(\"R score:\", r2)"
   ]
  }
 ],
 "metadata": {
  "kernelspec": {
   "display_name": "Python 3",
   "language": "python",
   "name": "python3"
  },
  "language_info": {
   "codemirror_mode": {
    "name": "ipython",
    "version": 3
   },
   "file_extension": ".py",
   "mimetype": "text/x-python",
   "name": "python",
   "nbconvert_exporter": "python",
   "pygments_lexer": "ipython3",
   "version": "3.11.4"
  }
 },
 "nbformat": 4,
 "nbformat_minor": 4
}
